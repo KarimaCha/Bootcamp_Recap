{
 "cells": [
  {
   "cell_type": "markdown",
   "metadata": {},
   "source": [
    "# Instructions \n",
    "\n",
    "For this assignment you'll be working through solving more problems, but this time by building functions from scratch. \n",
    "\n",
    "\n",
    "For each problem, you should build a function into your solution. We will build each function into it's own file, and then call it with some arguments right after you define it. \n",
    "\n",
    "\n",
    "For example, pretend all of the following is the solution to one of the problems, written in a function first and then called (for testing purposes) below. \n",
    "\n",
    "```python \n",
    "def my_func(param1, param2, param3): \n",
    "    # Function code to solve the problem\n",
    "\n",
    "print my_func(param11, param21, param31)\n",
    "print my_func(param12, param22, param32)\n",
    "print my_func(param13, param23, param33)\n",
    "print my_func(param14, param24, param34)\n",
    "print my_func(param15, param25, param35)\n",
    "```\n",
    "\n",
    "Note above that `my_func` is called five times after it's definition. \n",
    "\n",
    "\n",
    "The output of each call is printed so running the script from the command line will print the tests. These tests should check that `my_func` works correctly with different sets of arguments. You should aim to test your functions at least 5 times tonight after you write them. It's good to try to think of tests that your function might not solve correctly (we call these **edge cases**). Not only does thinking like this help you solve the problem, but it also gives you more faith in your solution.\n",
    "\n",
    "You can name each of the scripts you store your solutions and tests in, but know that its bad practice to start the names of scripts with numbers for reasons that we will see in future classes.\n",
    "\n",
    "# Assignment Questions \n",
    "\n",
    "### Part 1 - Basic Practice \n",
    "\n",
    "For the first part of the assignment, we're going to get some practice taking something we've already written and translating it to a function. In continuation of prior assignments, \n",
    "\n",
    "1. Write a function that computes the factorial for an inputted number.  \n",
    "2. Write a function that determines whether or not an inputted number is prime, and then prints 'The number you inputted is a prime/ not a prime number.' depending on what your script finds (note that this means putting a `print` in front of the function when testing it will be redundant for this case). "
   ]
  },
  {
   "cell_type": "code",
   "execution_count": 110,
   "metadata": {},
   "outputs": [
    {
     "name": "stdout",
     "output_type": "stream",
     "text": [
      "Factorial for negative numbers not defined.\n",
      "1\n",
      "1\n",
      "2\n",
      "6\n",
      "3628800\n"
     ]
    }
   ],
   "source": [
    "# 1. Write a function that computes the factorial for an inputted number. \n",
    "\n",
    "def get_factorial(n):\n",
    "    factorial = 1\n",
    "    if n < 0:\n",
    "        return('Factorial for negative numbers not defined.')\n",
    "    if n > 0:\n",
    "        for num in range(1, n+1):\n",
    "            factorial *= num\n",
    "    return factorial\n",
    "\n",
    "print(get_factorial(-1))\n",
    "print(get_factorial(0))\n",
    "print(get_factorial(1))\n",
    "print(get_factorial(2))\n",
    "print(get_factorial(3))\n",
    "print(get_factorial(10))"
   ]
  },
  {
   "cell_type": "code",
   "execution_count": 111,
   "metadata": {},
   "outputs": [
    {
     "name": "stdout",
     "output_type": "stream",
     "text": [
      "1 The number you inputted is a prime number.\n",
      "2 The number you inputted is a prime number.\n",
      "3 The number you inputted is a prime number.\n",
      "4 The number you inputted is not a prime number.\n",
      "5 The number you inputted is a prime number.\n",
      "6 The number you inputted is not a prime number.\n",
      "7 The number you inputted is a prime number.\n",
      "8 The number you inputted is not a prime number.\n",
      "9 The number you inputted is not a prime number.\n",
      "10 The number you inputted is not a prime number.\n"
     ]
    }
   ],
   "source": [
    "# 2. Write a function that determines whether or not an inputted number is prime, and then prints \n",
    "# 'The number you inputted is a prime/ not a prime number.' depending on what your script finds (note that\n",
    "# this means putting a print in front of the function when testing it will be redundant for this case).\n",
    "\n",
    "def test_prime(n):\n",
    "    for i in range(2, int(n/2)+1):\n",
    "        if n % i == 0:\n",
    "            return('The number you inputted is not a prime number.')\n",
    "    return('The number you inputted is a prime number.')\n",
    "\n",
    "for num in range(1,11):\n",
    "    print(num, test_prime(num))"
   ]
  },
  {
   "cell_type": "markdown",
   "metadata": {},
   "source": [
    "### Part 2 - Advanced Practice \n",
    "\n",
    "Now we're going to push our problem solving and programming skills even further by coding up functions to solve new problems. For each of the problems below, I would suggest coding it up in a similar way to how you did the other two (building the function, and then calling it some number of times (5) to test it out after that). \n",
    "\n",
    "1. Write a function that counts the number of words in an inputted string, where we consider words to be separated by spaces. \n",
    "2. Write a function that counts the number of words in an inputted string, where we consider words to be separated by a specified delimiter (so your function should accept two arguments, one for the string and one for the delimiter) and a space is defined as the default delimiter.  \n",
    "3. Write a function that takes in a string, and returns a list that holds the length of each word in the phrase, separated by an inputted delimiter (so you're function should accept two arguments again). Make a space the default delimiter like you did in `2`. For example, if the arguments to your function were `This is a test string` (and nothing else), your function should return `[4, 2, 1, 4, 6]`. Go ahead and don't worry about removing punctuation (you can include it in the word length - e.g. \"this.\" has five letters, if we count the period). \n",
    "4. Write a function that returns all the prime numbers up to an inputted number (**Hint**: It might be helpful to use/modify the prime function you wrote earlier).    \n",
    "5. Write a function that takes in a list of numbers, as well as an additional number (i.e. two arguments), and returns a list of `yes` or `no` depending on whether each number in the list is divisible by the second number. For example, if I input `[10, 25, 36, 12, 20]` as the list of numbers, and `5` as the additional number, your function should return `['yes', 'yes', 'no', 'no', 'yes']`.\n",
    "6. Write a function that takes in a list of strings, as well as an inputted letter (which looks like a string with a single character), and returns a list of only those strings from the input list that end with that letter. For example, if I input `['I', 'am', 'in', 'love', 'with', 'Python']` as the list of strings, and `n` as the inputted letter, your function should return `['in', 'Python']`.\n",
    "7. Write a function that takes in a list of strings, as well as an inputted substring (i.e. another string), and returns a list of the indices of the strings that contain that inputted substring. For example, if I input `['This', 'is, 'an' , 'example']` as the list of strings, and `is` as the substring, your function should return `[0, 1]`."
   ]
  },
  {
   "cell_type": "code",
   "execution_count": 92,
   "metadata": {},
   "outputs": [
    {
     "name": "stdout",
     "output_type": "stream",
     "text": [
      "0\n",
      "1\n",
      "3\n",
      "8\n"
     ]
    }
   ],
   "source": [
    "# 1. Write a function that counts the number of words in an inputted string, \n",
    "# where we consider words to be separated by spaces. \n",
    "\n",
    "def count_words(string):\n",
    "    return len(string.split())\n",
    "\n",
    "print(count_words(''))\n",
    "print(count_words('eins'))\n",
    "print(count_words('eins zwei drei'))\n",
    "print(count_words('eins zwei drei vier fünf sechs sieben acht'))"
   ]
  },
  {
   "cell_type": "code",
   "execution_count": 93,
   "metadata": {},
   "outputs": [
    {
     "name": "stdout",
     "output_type": "stream",
     "text": [
      "1\n",
      "1\n",
      "3\n",
      "8\n",
      "1\n",
      "1\n",
      "3\n",
      "8\n",
      "1\n",
      "1\n",
      "3\n",
      "8\n"
     ]
    }
   ],
   "source": [
    "# 2. Write a function that counts the number of words in an inputted string, where we consider \n",
    "# words to be separated by a specified delimiter (so your function should accept two arguments, \n",
    "# one for the string and one for the delimiter) and a space is defined as the default delimiter. \n",
    "\n",
    "def count_words(string, delimiter = ' '):\n",
    "    return len(string.split(sep = delimiter))\n",
    "\n",
    "print(count_words(''))\n",
    "print(count_words('eins'))\n",
    "print(count_words('eins zwei drei'))\n",
    "print(count_words('eins zwei drei vier fünf sechs sieben acht'))\n",
    "\n",
    "print(count_words('', ' '))\n",
    "print(count_words('eins', ' '))\n",
    "print(count_words('eins zwei drei', ' '))\n",
    "print(count_words('eins zwei drei vier fünf sechs sieben acht', ' '))\n",
    "\n",
    "print(count_words('', '-'))\n",
    "print(count_words('eins', '-'))\n",
    "print(count_words('eins-zwei-drei', '-'))\n",
    "print(count_words('eins-zwei-drei-vier-fünf-sechs-sieben-acht', '-'))"
   ]
  },
  {
   "cell_type": "code",
   "execution_count": 97,
   "metadata": {},
   "outputs": [
    {
     "name": "stdout",
     "output_type": "stream",
     "text": [
      "[4]\n",
      "[4, 4, 4]\n",
      "[4, 4, 4, 4, 4, 5, 6, 4]\n",
      "[4]\n",
      "[4, 4, 4]\n",
      "[4, 4, 4, 4, 4, 5, 6, 4]\n"
     ]
    }
   ],
   "source": [
    "# 3. Write a function that takes in a string, and returns a list that holds the length of \n",
    "# each word in the phrase, separated by an inputted delimiter (so you're function should \n",
    "# accept two arguments again). Make a space the default delimiter like you did in 2. For example, \n",
    "# if the arguments to your function were This is a test string (and nothing else), your function \n",
    "# should return [4, 2, 1, 4, 6]. Go ahead and don't worry about removing punctuation \n",
    "# (you can include it in the word length - e.g. \"this.\" has five letters, if we count the period). \n",
    "\n",
    "def word_lengths(string, delimiter = ' '):\n",
    "    list_lengths = [len(word) for word in string.split(sep = delimiter)]\n",
    "    return list_lengths\n",
    "\n",
    "print(word_lengths('eins'))\n",
    "print(word_lengths('eins zwei drei'))\n",
    "print(word_lengths('eins zwei drei vier fünf sechs sieben acht'))\n",
    "\n",
    "print(word_lengths('eins', '-'))\n",
    "print(word_lengths('eins-zwei-drei', '-'))\n",
    "print(word_lengths('eins-zwei-drei-vier-fünf-sechs-sieben-acht', '-'))"
   ]
  },
  {
   "cell_type": "code",
   "execution_count": 104,
   "metadata": {},
   "outputs": [
    {
     "name": "stdout",
     "output_type": "stream",
     "text": [
      "0 []\n",
      "1 [1]\n",
      "2 [1, 2]\n",
      "3 [1, 2, 3]\n",
      "4 [1, 2, 3]\n",
      "5 [1, 2, 3, 5]\n",
      "6 [1, 2, 3, 5]\n",
      "7 [1, 2, 3, 5, 7]\n",
      "8 [1, 2, 3, 5, 7]\n",
      "9 [1, 2, 3, 5, 7]\n",
      "10 [1, 2, 3, 5, 7]\n"
     ]
    }
   ],
   "source": [
    "# 4. Write a function that returns all the prime numbers up to an inputted number (Hint: It might be \n",
    "# helpful to use/modify the prime function you wrote earlier). \n",
    "\n",
    "def get_primes(n):\n",
    "    \n",
    "    def test_prime(n):\n",
    "        for i in range(2, int(n/2)+1):\n",
    "            if n % i == 0:\n",
    "                return False\n",
    "        return True\n",
    "\n",
    "    primes = [num for num in range(1, n+1) if test_prime(num)]\n",
    "    return primes\n",
    "\n",
    "for i in range(11):\n",
    "    print(i, get_primes(i))"
   ]
  },
  {
   "cell_type": "code",
   "execution_count": 107,
   "metadata": {},
   "outputs": [
    {
     "name": "stdout",
     "output_type": "stream",
     "text": [
      "['yes', 'no', 'no', 'no', 'yes']\n",
      "['yes', 'yes', 'no', 'no', 'yes']\n",
      "['yes', 'no', 'yes', 'yes', 'yes']\n",
      "divisor must not be zero\n"
     ]
    }
   ],
   "source": [
    "# 5. Write a function that takes in a list of numbers, as well as an additional number \n",
    "# (i.e. two arguments), and returns a list of yes or no depending on whether each number in the list \n",
    "# is divisible by the second number. For example, if I input [10, 25, 36, 12, 20] as the list of numbers, \n",
    "# and 5 as the additional number, your function should return ['yes', 'yes', 'no', 'no', 'yes'].\n",
    "\n",
    "def test_divisible(numbers, divisor):\n",
    "    if divisor == 0:\n",
    "        return('divisor must not be zero')\n",
    "    divisible = ['yes' if num % divisor == 0 else 'no' for num in numbers ]\n",
    "    return divisible\n",
    "\n",
    "print(test_divisible([10, 25, 36, 12, 20], 10))\n",
    "print(test_divisible([10, 25, 36, 12, 20], 5))\n",
    "print(test_divisible([10, 25, 36, 12, 20], 2))\n",
    "print(test_divisible([10, 25, 36, 12, 20], 0))"
   ]
  },
  {
   "cell_type": "code",
   "execution_count": 109,
   "metadata": {},
   "outputs": [
    {
     "name": "stdout",
     "output_type": "stream",
     "text": [
      "['in', 'Python']\n",
      "['I']\n"
     ]
    }
   ],
   "source": [
    "# 6. Write a function that takes in a list of strings, as well as an inputted letter \n",
    "# (which looks like a string with a single character), and returns a list of only those \n",
    "# strings from the input list that end with that letter. For example, if I input \n",
    "# ['I', 'am', 'in', 'love', 'with', 'Python'] as the list of strings, and n as the inputted letter, \n",
    "# your function should return ['in', 'Python'].\n",
    "\n",
    "def character_in_word(strings, letter):\n",
    "    output = [word for word in strings if word.endswith(letter)]\n",
    "    return output\n",
    "\n",
    "print(character_in_word(['I', 'am', 'in', 'love', 'with', 'Python'], 'n'))\n",
    "print(character_in_word(['I', 'am', 'in', 'love', 'with', 'Python'], 'I'))"
   ]
  },
  {
   "cell_type": "code",
   "execution_count": 122,
   "metadata": {},
   "outputs": [
    {
     "name": "stdout",
     "output_type": "stream",
     "text": [
      "[0, 1]\n",
      "[2]\n",
      "[3]\n"
     ]
    }
   ],
   "source": [
    "# 7. Write a function that takes in a list of strings, as well as an inputted substring \n",
    "# (i.e. another string), and returns a list of the indices of the strings that contain that \n",
    "# inputted substring. For example, if I input ['This', 'is', 'an' , 'example'] as the list of strings, \n",
    "# and 'is' as the substring, your function should return [0, 1].\n",
    "\n",
    "def character_in_word(strings, substring):\n",
    "    output = [index for index, word in enumerate(strings) if word.find(substring) >= 0]\n",
    "    return output\n",
    "\n",
    "print(character_in_word(['This', 'is', 'an' , 'example'], 'is'))\n",
    "print(character_in_word(['This', 'is', 'an' , 'example'], 'n'))\n",
    "print(character_in_word(['This', 'is', 'an' , 'example'], 'ple'))"
   ]
  },
  {
   "cell_type": "markdown",
   "metadata": {},
   "source": [
    "### Extra Credit\n",
    "\n",
    "1. Let's build a calculator for figuring out how much I owe in taxes (and by calculator, I mean function). Write a function that takes in a list of tuples, where each tuple contains two values, as well as an income to compute the taxes on (so your function should accept two arguments). For the tuple list, the first value of a tuple will be an income upper bound, and the second will be a tax rate for all income up to the given income bound. You need to build a calculator that will calculate the tax for all income up to each income bound (if it goes up that high) for the given tax rate. You can assume that the list of tuples will be sorted by the income bound (e.g. the first value in the tuple), such that the lowest income bound will be first, and the highest last (see below for an example).  \n",
    "\n",
    " As an example, let's say my tax info is `[(50000, 0.08), (100000, 0.10), (150000, 0.15)]`. This means that the first 50k of income is taxed at 8%, the second 50k at 10%, and the rest at 15% (note here that any income that is left past the highest upper bound given is taxed at the rate for that highest upper bound). So, if the inputted income was 70k, then my taxes would be 50 * 0.08 + 20 * 0.10 = 6k. You should write your function to be generalized and accept any kind of list of tuples and any inputted income (so it'll accept two arguments).  \n",
    "\n",
    "2. Now modify your solution to `Extra Credit 1` to accept a list of tuples that is not sorted by the income bound. \n",
    "\n",
    " **Hint**: Trying using the `sorted` function and working with the `key` argument (a [lambda](http://www.secnetix.de/olli/Python/lambda_functions.hawk) function will probably be helpful here). "
   ]
  },
  {
   "cell_type": "code",
   "execution_count": 155,
   "metadata": {},
   "outputs": [],
   "source": [
    "def tax_calculator(tax_info, income):    \n",
    "    result, lower_limit = 0, 0\n",
    "    tax_info_2 = tax_info + [(float('inf'), tax_info[-1][1])]\n",
    "    #print(tax_info_2)\n",
    "    for upper_limit, rate in tax_info_2:\n",
    "        if income > upper_limit:\n",
    "            result += (upper_limit - lower_limit) * rate\n",
    "        else:\n",
    "            result += (income - lower_limit) * rate\n",
    "            return result\n",
    "        lower_limit = upper_limit"
   ]
  },
  {
   "cell_type": "code",
   "execution_count": 173,
   "metadata": {},
   "outputs": [
    {
     "data": {
      "text/plain": [
       "21500.0"
      ]
     },
     "execution_count": 173,
     "metadata": {},
     "output_type": "execute_result"
    }
   ],
   "source": [
    "my_tax_info = [(50000, 0.08), (100000, 0.10), (150000, 0.15), (200000, 0.20)]\n",
    "my_income = 175000\n",
    "\n",
    "tax_calculator(my_tax_info, my_income)"
   ]
  },
  {
   "cell_type": "code",
   "execution_count": 178,
   "metadata": {},
   "outputs": [],
   "source": [
    "# Try it in a different way:\n",
    "\n",
    "def tax_calculator_2(tax_info, income):\n",
    "    tax_info_2 = [(0,0.08)] + tax_info + [(float('inf'), tax_info[-1][1])]\n",
    "    lb = list(zip(*tax_info_2))[0][:-1]\n",
    "    ub = list(zip(*tax_info_2))[0][1:]\n",
    "    rate = list(zip(*tax_info_2))[1][1:]\n",
    "    all_in_one = zip(lb, ub, rate)\n",
    "    #print(list(all_in_one))\n",
    "    \n",
    "    list_for_sum = [(ub-lb)*rate if income>ub else (income-lb)*rate for lb,ub,rate in all_in_one]\n",
    "    return sum([num for num in list_for_sum if num >= 0])"
   ]
  },
  {
   "cell_type": "code",
   "execution_count": 188,
   "metadata": {},
   "outputs": [
    {
     "data": {
      "text/plain": [
       "31500.0"
      ]
     },
     "execution_count": 188,
     "metadata": {},
     "output_type": "execute_result"
    }
   ],
   "source": [
    "my_tax_info = [(50000, 0.08), (100000, 0.10), (150000, 0.15), (200000, 0.20)]\n",
    "my_income = 225000\n",
    "\n",
    "tax_calculator_2(my_tax_info, my_income)"
   ]
  },
  {
   "cell_type": "code",
   "execution_count": 141,
   "metadata": {},
   "outputs": [
    {
     "data": {
      "text/plain": [
       "31500.0"
      ]
     },
     "execution_count": 141,
     "metadata": {},
     "output_type": "execute_result"
    }
   ],
   "source": [
    "# expected outputs for different income inputs:\n",
    "\n",
    "# my_income = 25000 -->  25000 * 0.08  --> 2000.0   # OK\n",
    "# my_income = 50000 -->  50000 * 0.08  --> 4000.0   # OK\n",
    "# my_income = 75000 -->  50000 * 0.08 + 25000 * 0.1 =  6500.0    # OK\n",
    "# my_income = 100000  -->  50000 * 0.08 + 50000 * 0.1 = 9000.0   # OK\n",
    "# my_income = 125000  -->  50000 * 0.08 + 50000 * 0.1  + 25000 * 0.15 = 12750.0   # OK\n",
    "# my_income = 150000  -->  50000 * 0.08 + 50000 * 0.1  + 50000 * 0.15 = 16500.0   # OK\n",
    "# my_income = 175000  -->  50000 * 0.08 + 50000 * 0.1  + 50000 * 0.15 + 25000 * 0.2 = 21500.0   # OK\n",
    "# my_income = 200000  -->  50000 * 0.08 + 50000 * 0.1  + 50000 * 0.15 + 50000 * 0.2 = 26500.0   # OK\n",
    "# my_income = 225000  -->  50000 * 0.08 + 50000 * 0.1  + 50000 * 0.15 + 75000 * 0.2 = 31500.0   # OK\n",
    "\n",
    "50000 * 0.08 + 50000 * 0.1 + 50000 * 0.15 + 75000 * 0.2"
   ]
  }
 ],
 "metadata": {
  "kernelspec": {
   "display_name": "Python 3",
   "language": "python",
   "name": "python3"
  },
  "language_info": {
   "codemirror_mode": {
    "name": "ipython",
    "version": 3
   },
   "file_extension": ".py",
   "mimetype": "text/x-python",
   "name": "python",
   "nbconvert_exporter": "python",
   "pygments_lexer": "ipython3",
   "version": "3.7.1"
  }
 },
 "nbformat": 4,
 "nbformat_minor": 2
}
